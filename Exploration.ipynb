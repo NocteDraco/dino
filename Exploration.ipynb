{
 "cells": [
  {
   "cell_type": "code",
   "execution_count": 134,
   "id": "34ef0b5e",
   "metadata": {},
   "outputs": [],
   "source": [
    "# Copyright (c) Facebook, Inc. and its affiliates.\n",
    "# \n",
    "# Licensed under the Apache License, Version 2.0 (the \"License\");\n",
    "# you may not use this file except in compliance with the License.\n",
    "# You may obtain a copy of the License at\n",
    "# \n",
    "#     http://www.apache.org/licenses/LICENSE-2.0\n",
    "# \n",
    "# Unless required by applicable law or agreed to in writing, software\n",
    "# distributed under the License is distributed on an \"AS IS\" BASIS,\n",
    "# WITHOUT WARRANTIES OR CONDITIONS OF ANY KIND, either express or implied.\n",
    "# See the License for the specific language governing permissions and\n",
    "# limitations under the License.\n",
    "import os\n",
    "import sys\n",
    "import glob\n",
    "import argparse\n",
    "import cv2\n",
    "import random\n",
    "import colorsys\n",
    "import requests\n",
    "import pandas as pd\n",
    "import pprint\n",
    "from io import BytesIO\n",
    "import tqdm\n",
    "import gc\n",
    "import psutil"
   ]
  },
  {
   "cell_type": "code",
   "execution_count": 2,
   "id": "2952b17e",
   "metadata": {},
   "outputs": [],
   "source": [
    "import skimage.io\n",
    "from skimage.measure import find_contours\n",
    "import matplotlib.pyplot as plt\n",
    "from matplotlib.patches import Polygon\n",
    "import torch\n",
    "import torch.nn as nn\n",
    "import torchvision\n",
    "from torchvision import transforms as pth_transforms\n",
    "import numpy as np\n",
    "from PIL import Image\n",
    "import warnings\n",
    "from sklearn.exceptions import DataConversionWarning\n",
    "warnings.filterwarnings(action='ignore', category=DataConversionWarning)\n",
    "from sklearn import manifold, model_selection, preprocessing, metrics, decomposition\n",
    "from sklearn import linear_model, ensemble, neural_network, neighbors"
   ]
  },
  {
   "cell_type": "code",
   "execution_count": 73,
   "id": "b16de0af",
   "metadata": {},
   "outputs": [],
   "source": [
    "import argparse\n",
    "import time\n",
    "import math\n",
    "from threading import Thread\n",
    "import numpy as np\n",
    "import cv2\n",
    "import pprint\n",
    "import importlib\n",
    "import pandas as pd\n",
    "from pandas.io import gbq\n",
    "import pydata_google_auth\n",
    "import matplotlib.pyplot as plt\n",
    "\n",
    "from aperturedb import Connector, Status, PyTorchDataset\n",
    "\n",
    "# Database information for connecting to the ApertureDB database\n",
    "class dbinfo():\n",
    "    \n",
    "    DB_HOST=\"localhost\"\n",
    "    DB_PORT=10009\n",
    "    DB_USER=\"admin\"\n",
    "    DB_PASSWORD=\"admin\""
   ]
  },
  {
   "cell_type": "code",
   "execution_count": 67,
   "id": "9804d37d",
   "metadata": {},
   "outputs": [
    {
     "name": "stdout",
     "output_type": "stream",
     "text": [
      "11327211\n"
     ]
    }
   ],
   "source": [
    "# Testing the connection\n",
    "db = Connector.Connector(\"localhost\", 10009, user=dbinfo.DB_USER, password=dbinfo.DB_PASSWORD)\n",
    "status = Status.Status(db)\n",
    "\n",
    "total_images = status.count_images()\n",
    "print(total_images)"
   ]
  },
  {
   "cell_type": "code",
   "execution_count": 3,
   "id": "d22d0d84",
   "metadata": {},
   "outputs": [],
   "source": [
    "import utils\n",
    "import vision_transformer as vits"
   ]
  },
  {
   "cell_type": "code",
   "execution_count": 4,
   "id": "35bb7e9a",
   "metadata": {},
   "outputs": [],
   "source": [
    "def apply_mask(image, mask, color, alpha=0.5):\n",
    "    for c in range(3):\n",
    "        image[:, :, c] = image[:, :, c] * (1 - alpha * mask) + alpha * mask * color[c] * 255\n",
    "    return image"
   ]
  },
  {
   "cell_type": "code",
   "execution_count": 5,
   "id": "2c66d511",
   "metadata": {},
   "outputs": [],
   "source": [
    "def random_colors(N, bright=True):\n",
    "    \"\"\"\n",
    "    Generate random colors.\n",
    "    \"\"\"\n",
    "    brightness = 1.0 if bright else 0.7\n",
    "    hsv = [(i / N, 1, brightness) for i in range(N)]\n",
    "    colors = list(map(lambda c: colorsys.hsv_to_rgb(*c), hsv))\n",
    "    random.shuffle(colors)\n",
    "    return colors"
   ]
  },
  {
   "cell_type": "code",
   "execution_count": 6,
   "id": "c65415ec",
   "metadata": {},
   "outputs": [],
   "source": [
    "def display_instances(image, mask, fname=\"test\", figsize=(5, 5), blur=False, contour=True, alpha=0.5):\n",
    "    fig = plt.figure(figsize=figsize, frameon=False)\n",
    "    ax = plt.Axes(fig, [0., 0., 1., 1.])\n",
    "    ax.set_axis_off()\n",
    "    fig.add_axes(ax)\n",
    "    ax = plt.gca()\n",
    "\n",
    "    N = 1\n",
    "    mask = mask[None, :, :]\n",
    "    # Generate random colors\n",
    "    colors = random_colors(N)\n",
    "\n",
    "    # Show area outside image boundaries.\n",
    "    height, width = image.shape[:2]\n",
    "    margin = 0\n",
    "    ax.set_ylim(height + margin, -margin)\n",
    "    ax.set_xlim(-margin, width + margin)\n",
    "    ax.axis('off')\n",
    "    masked_image = image.astype(np.uint32).copy()\n",
    "    for i in range(N):\n",
    "        color = colors[i]\n",
    "        _mask = mask[i]\n",
    "        if blur:\n",
    "            _mask = cv2.blur(_mask,(10,10))\n",
    "        # Mask\n",
    "        masked_image = apply_mask(masked_image, _mask, color, alpha)\n",
    "        # Mask Polygon\n",
    "        # Pad to ensure proper polygons for masks that touch image edges.\n",
    "        if contour:\n",
    "            padded_mask = np.zeros((_mask.shape[0] + 2, _mask.shape[1] + 2))\n",
    "            padded_mask[1:-1, 1:-1] = _mask\n",
    "            contours = find_contours(padded_mask, 0.5)\n",
    "            for verts in contours:\n",
    "                # Subtract the padding and flip (y, x) to (x, y)\n",
    "                verts = np.fliplr(verts) - 1\n",
    "                p = Polygon(verts, facecolor=\"none\", edgecolor=color)\n",
    "                ax.add_patch(p)\n",
    "    ax.imshow(masked_image.astype(np.uint8), aspect='auto')\n",
    "    fig.savefig(fname)\n",
    "    print(f\"{fname} saved.\")\n",
    "    return"
   ]
  },
  {
   "cell_type": "code",
   "execution_count": 27,
   "id": "3fbffa7c",
   "metadata": {},
   "outputs": [],
   "source": [
    "class VisAttn:\n",
    "    def __init__(self, \n",
    "                arch = 'vit_small', \n",
    "                patch_size = 16,\n",
    "                pretrained_weights = None,\n",
    "                checkpoint_key = 'teacher',\n",
    "                image_size = (480, 480),\n",
    "                output_dir = '.',\n",
    "                threshold = None):\n",
    "        self.arch = arch\n",
    "        self.patch_size = patch_size\n",
    "        self.pretrained_weights = pretrained_weights\n",
    "        self.checkpoint_key = checkpoint_key\n",
    "        self.image_size = image_size\n",
    "        self.output_dir = output_dir\n",
    "        self.threshold = threshold\n",
    "        \n",
    "    def prepareTransform(self):\n",
    "        \"\"\"\n",
    "        \"\"\"\n",
    "        transform = pth_transforms.Compose([\n",
    "        pth_transforms.Resize(self.image_size),\n",
    "        pth_transforms.ToTensor(),\n",
    "        pth_transforms.Normalize((0.485, 0.456, 0.406), (0.229, 0.224, 0.225)),\n",
    "    ])\n",
    "        self.transform = transform\n",
    "        \n",
    "        \n",
    "    def prepareModel(self):\n",
    "        \"\"\"\n",
    "        Given current parameters, prepare the model\n",
    "        \n",
    "        \"\"\"\n",
    "        # Prepare the model for investigation\n",
    "\n",
    "        device = torch.device(\"cuda\") if torch.cuda.is_available() else torch.device(\"cpu\")\n",
    "        self.device = device\n",
    "        # build model\n",
    "        model = vits.__dict__[self.arch](patch_size=self.patch_size, num_classes=0)\n",
    "        for p in model.parameters():\n",
    "            p.requires_grad = False\n",
    "        model.eval()\n",
    "        model.to(device)\n",
    "        if os.path.isfile(self.pretrained_weights):\n",
    "            state_dict = torch.load(self.pretrained_weights, map_location=\"cpu\")\n",
    "            if self.checkpoint_key is not None and self.checkpoint_key in state_dict:\n",
    "                print(f\"Take key {self.checkpoint_key} in provided checkpoint dict\")\n",
    "                state_dict = state_dict[self.checkpoint_key]\n",
    "            # remove `module.` prefix\n",
    "            state_dict = {k.replace(\"module.\", \"\"): v for k, v in state_dict.items()}\n",
    "            # remove `backbone.` prefix induced by multicrop wrapper\n",
    "            state_dict = {k.replace(\"backbone.\", \"\"): v for k, v in state_dict.items()}\n",
    "            msg = model.load_state_dict(state_dict, strict=False)\n",
    "            print('Pretrained weights found at {} and loaded with msg: {}'.format(self.pretrained_weights, msg))\n",
    "        else:\n",
    "            print(\"Please use the `--pretrained_weights` argument to indicate the path of the checkpoint to evaluate.\")\n",
    "            url = None\n",
    "            if self.arch == \"vit_small\" and self.patch_size == 16:\n",
    "                url = \"dino_deitsmall16_pretrain/dino_deitsmall16_pretrain.pth\"\n",
    "            elif self.arch == \"vit_small\" and self.patch_size == 8:\n",
    "                url = \"dino_deitsmall8_300ep_pretrain/dino_deitsmall8_300ep_pretrain.pth\"  # model used for visualizations in our paper\n",
    "            elif self.arch == \"vit_base\" and self.patch_size == 16:\n",
    "                url = \"dino_vitbase16_pretrain/dino_vitbase16_pretrain.pth\"\n",
    "            elif self.arch == \"vit_base\" and self.patch_size == 8:\n",
    "                url = \"dino_vitbase8_pretrain/dino_vitbase8_pretrain.pth\"\n",
    "            if url is not None:\n",
    "                print(\"Since no pretrained weights have been provided, we load the reference pretrained DINO weights.\")\n",
    "                state_dict = torch.hub.load_state_dict_from_url(url=\"https://dl.fbaipublicfiles.com/dino/\" + url)\n",
    "                model.load_state_dict(state_dict, strict=True)\n",
    "            else:\n",
    "                print(\"There is no reference weights available for this model => We use random weights.\")\n",
    "        self.model = model\n",
    "\n",
    "    def prepare(self):\n",
    "        self.prepareModel()\n",
    "        self.prepareTransform()\n",
    "        \n",
    "    def __readyImage(self, image_path):\n",
    "        # open image\n",
    "        if image_path is None:\n",
    "            # user has not specified any image - we use our own image\n",
    "            print(\"Please use the `--image_path` argument to indicate the path of the image you wish to visualize.\")\n",
    "            print(\"Since no image path have been provided, we take the first image in our paper.\")\n",
    "            response = requests.get(\"https://dl.fbaipublicfiles.com/dino/img.png\")\n",
    "            img = Image.open(BytesIO(response.content))\n",
    "            img = img.convert('RGB')\n",
    "        elif os.path.isfile(image_path):\n",
    "            with open(image_path, 'rb') as f:\n",
    "                img = Image.open(f)\n",
    "                img = img.convert('RGB')\n",
    "        else:\n",
    "            print(f\"Provided image path {image_path} is non valid.\")\n",
    "            sys.exit(1)\n",
    "\n",
    "        img = self.transform(img)\n",
    "\n",
    "        # make the image divisible by the patch size\n",
    "        w, h = img.shape[1] - img.shape[1] % self.patch_size, img.shape[2] - img.shape[2] % self.patch_size\n",
    "        img = img[:, :w, :h].unsqueeze(0)\n",
    "\n",
    "        w_featmap = img.shape[-2] // self.patch_size\n",
    "        h_featmap = img.shape[-1] // self.patch_size\n",
    "        return img, w_featmap, h_featmap\n",
    "    \n",
    "    def getAttention(self, image_path):\n",
    "        img, w_featmap, h_featmap = self.__readyImage(image_path)\n",
    "        \n",
    "        attentions = self.model.get_last_selfattention(img.to(self.device))\n",
    "\n",
    "        nh = attentions.shape[1] # number of head\n",
    "\n",
    "        # we keep only the output patch attention\n",
    "        attentions = attentions[0, :, 0, 1:].reshape(nh, -1)\n",
    "\n",
    "        if self.threshold is not None:\n",
    "            # we keep only a certain percentage of the mass\n",
    "            val, idx = torch.sort(attentions)\n",
    "            val /= torch.sum(val, dim=1, keepdim=True)\n",
    "            cumval = torch.cumsum(val, dim=1)\n",
    "            th_attn = cumval > (1 - self.threshold)\n",
    "            idx2 = torch.argsort(idx)\n",
    "            for head in range(nh):\n",
    "                th_attn[head] = th_attn[head][idx2[head]]\n",
    "            th_attn = th_attn.reshape(nh, w_featmap, h_featmap).float()\n",
    "            # interpolate\n",
    "            th_attn = nn.functional.interpolate(th_attn.unsqueeze(0), scale_factor=self.patch_size, mode=\"nearest\")[0].cpu().numpy()\n",
    "\n",
    "        attentions = attentions.reshape(nh, w_featmap, h_featmap)\n",
    "        attentions = nn.functional.interpolate(attentions.unsqueeze(0), scale_factor=self.patch_size, mode=\"nearest\")[0].cpu().numpy()\n",
    "\n",
    "        return attentions\n",
    "    def getIntermediate(self, image_path, n = 1):\n",
    "        img, w_featmap, h_featmap = self.__readyImage(image_path)\n",
    "        output = self.model.get_intermediate_layers(img.to(self.device), n = n)\n",
    "        output = np.array([q.cpu().numpy() for q in output])\n",
    "        return output\n",
    "    def getClsToken(self, image_path, n = 1, binarize_threshold = None):\n",
    "        output = self.getIntermediate(image_path, n = n)\n",
    "        cls = output[:,0,0]\n",
    "        if (binarize_threshold is not None):\n",
    "            cls = cls > binarize_threshold\n",
    "        return cls        \n",
    "        \n",
    "defaultPars = VisAttn()\n",
    "\n",
    "\n"
   ]
  },
  {
   "cell_type": "code",
   "execution_count": 69,
   "id": "87b15cba",
   "metadata": {},
   "outputs": [
    {
     "name": "stdout",
     "output_type": "stream",
     "text": [
      "Please use the `--pretrained_weights` argument to indicate the path of the checkpoint to evaluate.\n",
      "Since no pretrained weights have been provided, we load the reference pretrained DINO weights.\n"
     ]
    }
   ],
   "source": [
    "# # Select the weights here # #\n",
    "# ImageNet pre-trained\n",
    "pretrained_weights = \"\"\n",
    "\n",
    "# 120k, 0.669 loss, 8k dim\n",
    "# pretrained_weights = '/home/DXB05HN/model_pts/dino/checkpoint.pth'\n",
    "\n",
    "\n",
    "# Build the object for easy use of post-processing steps\n",
    "myAttnVis = VisAttn(pretrained_weights = pretrained_weights)\n",
    "myAttnVis.prepare()\n",
    "\n",
    "# Get all the images from a given directory that might be inspected\n",
    "fns = glob.glob(\"/home/DXB05HN/data/HDCLIPDataset200k/livingroombest/*.jpg\")"
   ]
  },
  {
   "cell_type": "code",
   "execution_count": 77,
   "id": "f9e47e3a",
   "metadata": {},
   "outputs": [
    {
     "name": "stdout",
     "output_type": "stream",
     "text": [
      "['image_name_x', 'product_title', 'image', 'has_image', 'caption_x', 'image_no_a', 'image_path', 'description', 'omsid', 'taxonomy', 'image_name_y', 'product_description', 'caption_y', 'image_full']\n",
      "['Area Rugs' 'End Tables' 'Sofas' 'Coffee Tables' 'Table Lamps'\n",
      " 'Accent Chairs']\n",
      "Counts [103869   4105   1347   2666   4571   3941]\n"
     ]
    }
   ],
   "source": [
    "# File directory\n",
    "file_dir = \"/home/DXB05HN/data/HDCLIPDataset200k/livingroombest\"\n",
    "\n",
    "# read in the dataframe of information\n",
    "df = pd.read_csv(\"/home/DXB05HN/data/HDCLIPDataset200k/product_all.csv\")\n",
    "df['image_full'] = df['image'].apply(lambda x: os.path.join(file_dir, x))\n",
    "\n",
    "print(df.columns.to_list())\n",
    "df[['image', 'image_full', 'taxonomy']].head()\n",
    "\n",
    "df['taxonomy_last'] = df['taxonomy'].apply(lambda x: x.split('>')[-1])\n",
    "print(df['taxonomy_last'].unique())\n",
    "\n",
    "# This is the finest grain taxonomy of classes\n",
    "labels, levels = df['taxonomy'].factorize()\n",
    "\n",
    "# This is less granular taxonomy of classes\n",
    "labels, levels = df['taxonomy_last'].factorize()\n",
    "levels = np.array(levels)\n",
    "_, level_weights = np.unique(labels, return_counts = True)\n",
    "print(\"Counts\", level_weights)"
   ]
  },
  {
   "cell_type": "code",
   "execution_count": 64,
   "id": "19d0bc62",
   "metadata": {},
   "outputs": [
    {
     "data": {
      "text/html": [
       "<div>\n",
       "<style scoped>\n",
       "    .dataframe tbody tr th:only-of-type {\n",
       "        vertical-align: middle;\n",
       "    }\n",
       "\n",
       "    .dataframe tbody tr th {\n",
       "        vertical-align: top;\n",
       "    }\n",
       "\n",
       "    .dataframe thead th {\n",
       "        text-align: right;\n",
       "    }\n",
       "</style>\n",
       "<table border=\"1\" class=\"dataframe\">\n",
       "  <thead>\n",
       "    <tr style=\"text-align: right;\">\n",
       "      <th></th>\n",
       "      <th>product_title</th>\n",
       "    </tr>\n",
       "  </thead>\n",
       "  <tbody>\n",
       "    <tr>\n",
       "      <th>0</th>\n",
       "      <td>Abstract Gold/Gray 6 ft. x 6 ft. Square Border...</td>\n",
       "    </tr>\n",
       "    <tr>\n",
       "      <th>1</th>\n",
       "      <td>Agoja Contemporary Diamonds Black 2 ft. 6 in. ...</td>\n",
       "    </tr>\n",
       "    <tr>\n",
       "      <th>2</th>\n",
       "      <td>Madison White/Royal Blue 4 ft. x 4 ft. Square ...</td>\n",
       "    </tr>\n",
       "    <tr>\n",
       "      <th>3</th>\n",
       "      <td>LYNDON 116 GRAPHITE 3 FT. 3 IN. X 5 FT. 1 IN. ...</td>\n",
       "    </tr>\n",
       "    <tr>\n",
       "      <th>4</th>\n",
       "      <td>Eco Navy 4 ft. x 5 ft. 3 in. Outdoor Area Rug</td>\n",
       "    </tr>\n",
       "  </tbody>\n",
       "</table>\n",
       "</div>"
      ],
      "text/plain": [
       "                                       product_title\n",
       "0  Abstract Gold/Gray 6 ft. x 6 ft. Square Border...\n",
       "1  Agoja Contemporary Diamonds Black 2 ft. 6 in. ...\n",
       "2  Madison White/Royal Blue 4 ft. x 4 ft. Square ...\n",
       "3  LYNDON 116 GRAPHITE 3 FT. 3 IN. X 5 FT. 1 IN. ...\n",
       "4      Eco Navy 4 ft. x 5 ft. 3 in. Outdoor Area Rug"
      ]
     },
     "execution_count": 64,
     "metadata": {},
     "output_type": "execute_result"
    }
   ],
   "source": [
    "df[['product_title']].head()"
   ]
  },
  {
   "cell_type": "code",
   "execution_count": 57,
   "id": "3088ee2a",
   "metadata": {},
   "outputs": [
    {
     "name": "stderr",
     "output_type": "stream",
     "text": [
      "  0%|                                                                                                       | 0/3000 [00:00<?, ?it/s]/opt/conda/lib/python3.7/site-packages/torch/nn/functional.py:3635: UserWarning: Default upsampling behavior when mode=bicubic is changed to align_corners=False since 0.4.0. Please specify align_corners=True if the old behavior is desired. See the documentation of nn.Upsample for details.\n",
      "  \"See the documentation of nn.Upsample for details.\".format(mode)\n",
      "/opt/conda/lib/python3.7/site-packages/torch/nn/functional.py:3680: UserWarning: The default behavior for interpolate/upsample with float scale_factor changed in 1.6.0 to align with other frameworks/libraries, and now uses scale_factor directly, instead of relying on the computed output size. If you wish to restore the old behavior, please set recompute_scale_factor=True. See the documentation of nn.Upsample for details. \n",
      "  \"The default behavior for interpolate/upsample with float scale_factor changed \"\n",
      "100%|████████████████████████████████████████████████████████████████████████████████████████████| 3000/3000 [04:47<00:00, 10.42it/s]\n"
     ]
    }
   ],
   "source": [
    "# Get class tokens over a number of images\n",
    "gc.collect()\n",
    "cls_tokens = []\n",
    "n_files = 3000\n",
    "for ind, row in tqdm.tqdm(df.iloc[:n_files].iterrows(), total = n_files):\n",
    "    cls_tokens.append(myAttnVis.getClsToken(row['image_full'], n = 1)[0])\n",
    "#     cls_tokens.append(myAttnVis.getForward(row['image_full'])[0])\n",
    "cls_tokens = np.array(cls_tokens)"
   ]
  },
  {
   "cell_type": "code",
   "execution_count": 60,
   "id": "dd00a6e2",
   "metadata": {},
   "outputs": [
    {
     "name": "stdout",
     "output_type": "stream",
     "text": [
      "[200  82  18  54  89  54]\n",
      "{'ET': {'avg': 0.872, 'cv_std': 0.019},\n",
      " 'KNN': {'avg': 0.847, 'cv_std': 0.026},\n",
      " 'LinReg': {'avg': 0.883, 'cv_std': 0.036},\n",
      " 'MLP': {'avg': 0.903, 'cv_std': 0.036}}\n"
     ]
    }
   ],
   "source": [
    "# Parameters of the run\n",
    "rand_state = 18039\n",
    "max_cat_samples = 200 # Any more samples than this and we drop them\n",
    "\n",
    "# Data splitter\n",
    "splitter = model_selection.StratifiedShuffleSplit(n_splits = 4, test_size = 0.2, random_state = rand_state)\n",
    "\n",
    "# Current data to use\n",
    "these_data = cls_tokens[:2000].copy()\n",
    "# these_data = cls_tokens[:2000].copy() > 0\n",
    "\n",
    "\n",
    "# Get the labels for the current tokens to be considered\n",
    "these_labels = labels[:len(these_data)]\n",
    "\n",
    "\n",
    "# Custom filter for data selection\n",
    "these_data_temp = []\n",
    "these_labels_temp = []\n",
    "for i in np.unique(these_labels):\n",
    "    inds_all = np.argwhere(these_labels == i)[:,0][:max_cat_samples]\n",
    "    these_data_temp.append(these_data[inds_all])\n",
    "    these_labels_temp.append(these_labels[inds_all])\n",
    "\n",
    "these_data = np.concatenate(these_data_temp, axis = 0)\n",
    "these_labels = np.concatenate(these_labels_temp, axis = 0)\n",
    "\n",
    "unique_labels, unique_label_counts = np.unique(these_labels, return_counts = True)\n",
    "print(unique_label_counts)\n",
    "\n",
    "\n",
    "\n",
    "# Build the classifier\n",
    "clf_list = {}\n",
    "clfLR = linear_model.LogisticRegression(random_state = rand_state, max_iter = 1000)\n",
    "clf_list['LinReg'] = clfLR\n",
    "clfET = ensemble.ExtraTreesClassifier(random_state = rand_state, min_samples_split = 4, n_estimators = 100)\n",
    "clf_list['ET'] = clfET\n",
    "clfMLP = neural_network.MLPClassifier([384, 128, 16], random_state = rand_state)\n",
    "clf_list['MLP'] = clfMLP\n",
    "clfKNN = neighbors.KNeighborsClassifier()\n",
    "clf_list['KNN'] = clfKNN\n",
    "\n",
    "scores_all = {}\n",
    "for mtype in clf_list:\n",
    "    clf = clf_list[mtype]\n",
    "    # Loop through splits and store scores of trained classifier. Plot confusion matrix for each as well\n",
    "    scores = []\n",
    "    for i, (train_index, test_index) in enumerate(splitter.split(these_data, these_labels)):\n",
    "        X, y = these_data[train_index], these_labels[train_index]\n",
    "\n",
    "        # Initial build of the two components in preprocessing\n",
    "        # pca = decomposition.PCA(n_components = 128).fit(X)\n",
    "        # scaler = preprocessing.StandardScaler().fit(pca.transform(X))\n",
    "        scaler = preprocessing.StandardScaler().fit(X)\n",
    "\n",
    "\n",
    "        # Build preprocessing functions\n",
    "        # preproc = lambda x: scaler.transform(pca.transform(x))\n",
    "        preproc = lambda x: scaler.transform(x)\n",
    "#         preproc = lambda x: x\n",
    "\n",
    "        # Scaling\n",
    "        clf = clf.fit(preproc(X), y)\n",
    "\n",
    "        # Test data\n",
    "        X_t, y_t = these_data[test_index], these_labels[test_index]\n",
    "\n",
    "        # Scaling\n",
    "        scores.append(clf.score(preproc(X_t), y_t))\n",
    "\n",
    "        # Confusion matrix generation\n",
    "#         confmat = metrics.confusion_matrix(y_t, clf.predict(preproc(X_t)), labels=clf.classes_)\n",
    "#         disp = metrics.ConfusionMatrixDisplay(confusion_matrix=confmat, display_labels=clf.classes_)\n",
    "#         disp.plot()\n",
    "    scores_all[mtype] = {'avg': np.mean(scores).round(3), 'cv_std': np.std(np.array(scores)).round(3)}\n",
    "    \n",
    "pprint.pprint(scores_all)\n",
    "# print(metrics.accuracy_score(y_t, np.ones_like(y_t) * np.mean(y)))\n",
    "\n",
    "# embed = manifold.TSNE().fit_transform(cls_tokens)\n",
    "del these_data, these_labels"
   ]
  },
  {
   "cell_type": "code",
   "execution_count": 108,
   "id": "6f9d9481",
   "metadata": {},
   "outputs": [
    {
     "name": "stdout",
     "output_type": "stream",
     "text": [
      "(397, 384)\n",
      "(2000,)\n",
      "(100, 384)\n",
      "(397, 384)\n"
     ]
    }
   ],
   "source": [
    "print(these_data.shape)\n",
    "print(these_labels.shape)\n",
    "np.argwhere(these_labels == 0)[:,0][:100].shape\n",
    "print(these_data_temp[0].shape)\n",
    "print(np.concatenate(these_data_temp, axis = 0).shape)"
   ]
  },
  {
   "cell_type": "code",
   "execution_count": 34,
   "id": "167658a0",
   "metadata": {},
   "outputs": [
    {
     "data": {
      "text/plain": [
       "[<matplotlib.lines.Line2D at 0x7fd9e5511110>]"
      ]
     },
     "execution_count": 34,
     "metadata": {},
     "output_type": "execute_result"
    },
    {
     "data": {
      "image/png": "[encoded data removed]",
      "text/plain": [
       "<Figure size 432x288 with 1 Axes>"
      ]
     },
     "metadata": {
      "needs_background": "light"
     },
     "output_type": "display_data"
    }
   ],
   "source": [
    "fig, ax = plt.subplots(1,1)\n",
    "ax.cla()\n",
    "ax.plot(np.mean(cls_tokens, axis = 0))\n",
    "ax.plot(np.std(cls_tokens, axis = 0))\n",
    "ax.plot(np.max(cls_tokens, axis = 0))"
   ]
  },
  {
   "cell_type": "code",
   "execution_count": 90,
   "id": "2dae9760",
   "metadata": {},
   "outputs": [],
   "source": [
    "# This code is pulled mostly from the DINO Attention code\n",
    "class ModelInspectorApertureDB:\n",
    "    def __init__(self, \n",
    "                arch = 'vit_small', \n",
    "                patch_size = 16,\n",
    "                pretrained_weights = None,\n",
    "                checkpoint_key = 'teacher',\n",
    "                image_size = (480, 480),\n",
    "                output_dir = '.',\n",
    "                threshold = None,\n",
    "                aperturedb_dataset = None):\n",
    "        self.arch = arch\n",
    "        self.patch_size = patch_size\n",
    "        self.pretrained_weights = pretrained_weights\n",
    "        self.checkpoint_key = checkpoint_key\n",
    "        self.image_size = image_size\n",
    "        self.output_dir = output_dir\n",
    "        self.threshold = threshold\n",
    "        self.aperturedb_dataset = aperturedb_dataset\n",
    "        \n",
    "    def prepareTransform(self):\n",
    "        \"\"\"\n",
    "        \"\"\"\n",
    "        transform = pth_transforms.Compose([\n",
    "        pth_transforms.Resize(self.image_size),\n",
    "        pth_transforms.ToTensor(),\n",
    "        pth_transforms.Normalize((0.485, 0.456, 0.406), (0.229, 0.224, 0.225)),\n",
    "    ])\n",
    "        self.transform = transform\n",
    "        \n",
    "        \n",
    "    def prepareModel(self):\n",
    "        \"\"\"\n",
    "        Given current parameters, prepare the model\n",
    "        \n",
    "        \"\"\"\n",
    "        # Prepare the model for investigation\n",
    "\n",
    "        device = torch.device(\"cuda\") if torch.cuda.is_available() else torch.device(\"cpu\")\n",
    "        self.device = device\n",
    "        # build model\n",
    "        model = vits.__dict__[self.arch](patch_size=self.patch_size, num_classes=0)\n",
    "        for p in model.parameters():\n",
    "            p.requires_grad = False\n",
    "        model.eval()\n",
    "        model.to(device)\n",
    "        if os.path.isfile(self.pretrained_weights):\n",
    "            state_dict = torch.load(self.pretrained_weights, map_location=\"cpu\")\n",
    "            if self.checkpoint_key is not None and self.checkpoint_key in state_dict:\n",
    "                print(f\"Take key {self.checkpoint_key} in provided checkpoint dict\")\n",
    "                state_dict = state_dict[self.checkpoint_key]\n",
    "            # remove `module.` prefix\n",
    "            state_dict = {k.replace(\"module.\", \"\"): v for k, v in state_dict.items()}\n",
    "            # remove `backbone.` prefix induced by multicrop wrapper\n",
    "            state_dict = {k.replace(\"backbone.\", \"\"): v for k, v in state_dict.items()}\n",
    "            msg = model.load_state_dict(state_dict, strict=False)\n",
    "            print('Pretrained weights found at {} and loaded with msg: {}'.format(self.pretrained_weights, msg))\n",
    "        else:\n",
    "            print(\"Please use the `--pretrained_weights` argument to indicate the path of the checkpoint to evaluate.\")\n",
    "            url = None\n",
    "            if self.arch == \"vit_small\" and self.patch_size == 16:\n",
    "                url = \"dino_deitsmall16_pretrain/dino_deitsmall16_pretrain.pth\"\n",
    "            elif self.arch == \"vit_small\" and self.patch_size == 8:\n",
    "                url = \"dino_deitsmall8_300ep_pretrain/dino_deitsmall8_300ep_pretrain.pth\"  # model used for visualizations in our paper\n",
    "            elif self.arch == \"vit_base\" and self.patch_size == 16:\n",
    "                url = \"dino_vitbase16_pretrain/dino_vitbase16_pretrain.pth\"\n",
    "            elif self.arch == \"vit_base\" and self.patch_size == 8:\n",
    "                url = \"dino_vitbase8_pretrain/dino_vitbase8_pretrain.pth\"\n",
    "            if url is not None:\n",
    "                print(\"Since no pretrained weights have been provided, we load the reference pretrained DINO weights.\")\n",
    "                state_dict = torch.hub.load_state_dict_from_url(url=\"https://dl.fbaipublicfiles.com/dino/\" + url)\n",
    "                model.load_state_dict(state_dict, strict=True)\n",
    "            else:\n",
    "                print(\"There is no reference weights available for this model => We use random weights.\")\n",
    "        self.model = model\n",
    "\n",
    "    def prepare(self):\n",
    "        self.prepareModel()\n",
    "        self.prepareTransform()\n",
    "        \n",
    "    def __readyNextImage(self, index):\n",
    "\n",
    "        # Get the next image and label from the dataset\n",
    "        img, lbl = self.aperturedb_dataset[index]\n",
    "        \n",
    "        # Convert image from numpy array to PIL image\n",
    "        img = Image.fromarray(img)\n",
    "        \n",
    "        # Transform according to transformation image\n",
    "        img = self.transform(img)\n",
    "\n",
    "        # make the image divisible by the patch size\n",
    "        w, h = img.shape[1] - img.shape[1] % self.patch_size, img.shape[2] - img.shape[2] % self.patch_size\n",
    "        img = img[:, :w, :h].unsqueeze(0)\n",
    "\n",
    "        # Return shapes\n",
    "        w_featmap = img.shape[-2] // self.patch_size\n",
    "        h_featmap = img.shape[-1] // self.patch_size\n",
    "        return img, w_featmap, h_featmap, lbl\n",
    "    \n",
    "    def getAttention(self, index):\n",
    "        \"\"\"\n",
    "        Get the attention mask of the last layer of the model. If provided, \n",
    "        build a thresholded cumsum mask.\n",
    "        \"\"\"\n",
    "        img, w_featmap, h_featmap, label = self.__readyNextImage(index)\n",
    "        \n",
    "        attentions = self.model.get_last_selfattention(img.to(self.device))\n",
    "\n",
    "        nh = attentions.shape[1] # number of head\n",
    "\n",
    "        # we keep only the output patch attention\n",
    "        attentions = attentions[0, :, 0, 1:].reshape(nh, -1)\n",
    "\n",
    "        if self.threshold is not None:\n",
    "            # we keep only a certain percentage of the mass\n",
    "            val, idx = torch.sort(attentions)\n",
    "            val /= torch.sum(val, dim=1, keepdim=True)\n",
    "            cumval = torch.cumsum(val, dim=1)\n",
    "            th_attn = cumval > (1 - self.threshold)\n",
    "            idx2 = torch.argsort(idx)\n",
    "            for head in range(nh):\n",
    "                th_attn[head] = th_attn[head][idx2[head]]\n",
    "            th_attn = th_attn.reshape(nh, w_featmap, h_featmap).float()\n",
    "            # interpolate\n",
    "            th_attn = nn.functional.interpolate(th_attn.unsqueeze(0), scale_factor=self.patch_size, mode=\"nearest\")[0].cpu().numpy()\n",
    "\n",
    "        attentions = attentions.reshape(nh, w_featmap, h_featmap)\n",
    "        attentions = nn.functional.interpolate(attentions.unsqueeze(0), scale_factor=self.patch_size, mode=\"nearest\")[0].cpu().numpy()\n",
    "\n",
    "        return attentions, label\n",
    "    \n",
    "    def getIntermediate(self, index, n = 1):\n",
    "        img, w_featmap, h_featmap, label = self.__readyNextImage(index)\n",
    "        output = self.model.get_intermediate_layers(img.to(self.device), n = n)\n",
    "        output = np.array([q.cpu().numpy() for q in output])\n",
    "        return output, label\n",
    "    \n",
    "    def getClsToken(self, index, binarize_threshold = None):\n",
    "        output, label = self.getIntermediate(index, n = 1)\n",
    "        cls = output[:,0,0]\n",
    "        if (binarize_threshold is not None):\n",
    "            cls = cls > binarize_threshold\n",
    "        return cls, label"
   ]
  },
  {
   "cell_type": "code",
   "execution_count": 130,
   "id": "049adaa0",
   "metadata": {},
   "outputs": [
    {
     "name": "stdout",
     "output_type": "stream",
     "text": [
      "Take key teacher in provided checkpoint dict\n",
      "Pretrained weights found at /home/DXB05HN/model_pts/dino/checkpoint.pth and loaded with msg: _IncompatibleKeys(missing_keys=[], unexpected_keys=['head.mlp.0.weight', 'head.mlp.0.bias', 'head.mlp.2.weight', 'head.mlp.2.bias', 'head.mlp.4.weight', 'head.mlp.4.bias', 'head.last_layer.weight_g', 'head.last_layer.weight_v'])\n",
      "Please use the `--pretrained_weights` argument to indicate the path of the checkpoint to evaluate.\n",
      "Since no pretrained weights have been provided, we load the reference pretrained DINO weights.\n"
     ]
    }
   ],
   "source": [
    "# # Select the weights here # #\n",
    "# ImageNet pre-trained\n",
    "pretrained_weights = \"\"\n",
    "\n",
    "# 120k, 0.669 loss, 8k dim\n",
    "pretrained_weights = '/home/DXB05HN/model_pts/dino/checkpoint.pth'\n",
    "\n",
    "\n",
    "# # Dataset from ApertureDB # # \n",
    "db = Connector.Connector(\"localhost\", 10009, user=dbinfo.DB_USER, password=dbinfo.DB_PASSWORD)\n",
    "apdb_pytorchds_query_itc_labels = [\n",
    "        {\"FindImage\":{\n",
    "            \"results\": {\"limit\": 1000000, \"list\": [\"itc_label_l1\", \"itc_label_l2\", \"itc_confidence_l1\"]},\n",
    "            \"operations\":  [\n",
    "                    {\n",
    "                        \"type\": \"resize\",\n",
    "                        \"width\":  224,\n",
    "                        \"height\": 224,\n",
    "                    }\n",
    "            ],\n",
    "        }\n",
    "        }\n",
    "        ]\n",
    "dataset = PyTorchDataset.ApertureDBDataset(db, apdb_pytorchds_query_itc_labels, label_prop=\"itc_label_l1\")\n",
    "\n",
    "# Build the object for easy use of post-processing steps\n",
    "myAttnVisApDB = ModelInspectorApertureDB(pretrained_weights = pretrained_weights, aperturedb_dataset = dataset)\n",
    "myAttnVisApDB.prepare()\n",
    "\n",
    "# Build the ImageNet version of the model\n",
    "INAttnVisApDB = ModelInspectorApertureDB(pretrained_weights = \"\", aperturedb_dataset = dataset)\n",
    "INAttnVisApDB.prepare()\n"
   ]
  },
  {
   "cell_type": "code",
   "execution_count": 162,
   "id": "f52012dd",
   "metadata": {},
   "outputs": [
    {
     "name": "stdout",
     "output_type": "stream",
     "text": [
      "1000000\n"
     ]
    },
    {
     "data": {
      "text/plain": [
       "True"
      ]
     },
     "execution_count": 162,
     "metadata": {},
     "output_type": "execute_result"
    }
   ],
   "source": [
    "print(len(dataset))\n",
    "db.connected"
   ]
  },
  {
   "cell_type": "code",
   "execution_count": 136,
   "id": "f6cccd75",
   "metadata": {},
   "outputs": [
    {
     "name": "stderr",
     "output_type": "stream",
     "text": [
      "100%|████████████████████████████████████████████████████████████████████████████████████████████| 2000/2000 [05:07<00:00,  6.50it/s]"
     ]
    },
    {
     "name": "stdout",
     "output_type": "stream",
     "text": [
      "['Closeup/Features' 'Lifestyle Image' 'None' 'Silo' 'Silo Product Image']\n"
     ]
    },
    {
     "name": "stderr",
     "output_type": "stream",
     "text": [
      "\n"
     ]
    }
   ],
   "source": [
    "# Suppress the UserWarning from mode=bicubic and interpolate/upsample\n",
    "warnings.filterwarnings(\"ignore\", category = UserWarning)\n",
    "\n",
    "# Loop through a number of images and get their tokens and labels\n",
    "gc.collect()\n",
    "cls_tokens_1 = [] # Locally trained model\n",
    "cls_tokens_2 = [] # ImageNet trained model\n",
    "lbls = []\n",
    "n_files = 2000\n",
    "for ind in tqdm.tqdm(range(n_files), total = n_files):\n",
    "    cls_tkn, lbl = myAttnVisApDB.getClsToken(ind)\n",
    "    cls_tokens_1.append(cls_tkn[0])\n",
    "    cls_tkn, _ = INAttnVisApDB.getClsToken(ind)\n",
    "    cls_tokens_2.append(cls_tkn[0])\n",
    "    lbls.append(lbl)\n",
    "cls_tokens_1 = np.array(cls_tokens_1)\n",
    "cls_tokens_2 = np.array(cls_tokens_2)\n",
    "lbls = np.array(lbls)\n",
    "print(np.unique(lbls))"
   ]
  },
  {
   "cell_type": "code",
   "execution_count": 139,
   "id": "37807551",
   "metadata": {},
   "outputs": [
    {
     "name": "stdout",
     "output_type": "stream",
     "text": [
      "{'Closeup/Features': 285,\n",
      " 'Lifestyle Image': 634,\n",
      " 'None': 16,\n",
      " 'Silo': 1051,\n",
      " 'Silo Product Image': 14}\n"
     ]
    }
   ],
   "source": [
    "# Convert the labels into factorized values\n",
    "itc_labels_l1_factorized, itc_label_strings = pd.factorize(lbls)\n",
    "\n",
    "label_strings, label_counts = np.unique(itc_labels_l1_factorized, return_counts = True)\n",
    "pprint.pprint({itc_label_strings[q]: v for q, v in zip(label_strings, label_counts)})"
   ]
  },
  {
   "cell_type": "code",
   "execution_count": 150,
   "id": "984f5257",
   "metadata": {},
   "outputs": [
    {
     "name": "stdout",
     "output_type": "stream",
     "text": [
      "{0: 1051, 1: 634, 2: 285, 3: 16, 4: 14}\n",
      "Post-filter\n",
      "{0: 1051, 1: 634, 2: 285}\n",
      "{'KNN': {'avg': 0.824, 'cv_std': 0.008}}\n"
     ]
    },
    {
     "data": {
      "image/png": "[encoded data removed]",
      "text/plain": [
       "<Figure size 432x288 with 2 Axes>"
      ]
     },
     "metadata": {
      "needs_background": "light"
     },
     "output_type": "display_data"
    },
    {
     "data": {
      "image/png": "[encoded data removed]",
      "text/plain": [
       "<Figure size 432x288 with 2 Axes>"
      ]
     },
     "metadata": {
      "needs_background": "light"
     },
     "output_type": "display_data"
    },
    {
     "data": {
      "image/png": "[encoded data removed]",
      "text/plain": [
       "<Figure size 432x288 with 2 Axes>"
      ]
     },
     "metadata": {
      "needs_background": "light"
     },
     "output_type": "display_data"
    },
    {
     "data": {
      "image/png": "[encoded data removed]",
      "text/plain": [
       "<Figure size 432x288 with 2 Axes>"
      ]
     },
     "metadata": {
      "needs_background": "light"
     },
     "output_type": "display_data"
    }
   ],
   "source": [
    "# Parameters of the run\n",
    "rand_state = 18039\n",
    "max_cat_samples = 2000 # Any more samples than this and we drop them\n",
    "\n",
    "# Data splitter\n",
    "splitter = model_selection.StratifiedShuffleSplit(n_splits = 4, test_size = 0.2, random_state = rand_state)\n",
    "\n",
    "# Current data to use\n",
    "these_data = cls_tokens_1[:2000].copy()\n",
    "\n",
    "do_binary = True\n",
    "\n",
    "if do_binary:\n",
    "    # Binarize the data\n",
    "    these_data = these_data > 0\n",
    "\n",
    "def buildPreproc(x, binarized = False):\n",
    "    \"\"\"\n",
    "    Build a preprocessing function\n",
    "    \"\"\"\n",
    "    # Initial build of the two components in preprocessing\n",
    "    scaler = preprocessing.StandardScaler().fit(x)\n",
    "\n",
    "    def preproc(y):\n",
    "        # Build preprocessing functions\n",
    "        return scaler.transform(y)\n",
    "        \n",
    "    # If data is binarized, do nothing\n",
    "    if binarized:\n",
    "        def preproc(y):\n",
    "            return y\n",
    "    \n",
    "    return preproc        \n",
    "\n",
    "# Get the labels for the current tokens to be considered\n",
    "these_labels = itc_labels_l1_factorized[:len(these_data)]\n",
    "\n",
    "\n",
    "# Custom filter for data selection\n",
    "these_data_temp = []\n",
    "these_labels_temp = []\n",
    "for i in np.unique(these_labels):\n",
    "    inds_all = np.argwhere(these_labels == i)[:,0][:max_cat_samples]\n",
    "    these_data_temp.append(these_data[inds_all])\n",
    "    these_labels_temp.append(these_labels[inds_all])\n",
    "\n",
    "these_data = np.concatenate(these_data_temp, axis = 0)\n",
    "these_labels = np.concatenate(these_labels_temp, axis = 0)\n",
    "\n",
    "# Pre-filtering data\n",
    "unique_labels, unique_label_counts = np.unique(these_labels, return_counts = True)\n",
    "print({q: v for q, v in zip(unique_labels, unique_label_counts)})\n",
    "\n",
    "# Filter by count threshold\n",
    "for ulbl, ulbl_count in zip(unique_labels, unique_label_counts):\n",
    "    if ulbl_count < 100:\n",
    "        these_data = these_data[these_labels != ulbl]\n",
    "        these_labels = these_labels[these_labels != ulbl]\n",
    "\n",
    "# Post filtering data\n",
    "unique_labels, unique_label_counts = np.unique(these_labels, return_counts = True)\n",
    "print(\"Post-filter\")\n",
    "print({q: v for q, v in zip(unique_labels, unique_label_counts)})\n",
    "\n",
    "# Build the classifier(s)\n",
    "clf_list = {}\n",
    "# clfLR = linear_model.LogisticRegression(random_state = rand_state, max_iter = 1000)\n",
    "# clf_list['LinReg'] = clfLR\n",
    "# clfET = ensemble.ExtraTreesClassifier(random_state = rand_state, min_samples_split = 4, n_estimators = 100)\n",
    "# clf_list['ET'] = clfET\n",
    "# clfMLP = neural_network.MLPClassifier([384, 128], random_state = rand_state)\n",
    "# clf_list['MLP'] = clfMLP\n",
    "clfKNN = neighbors.KNeighborsClassifier()\n",
    "clf_list['KNN'] = clfKNN\n",
    "\n",
    "# Dictionary that we'll store scores into\n",
    "scores_all = {}\n",
    "for mtype in clf_list:\n",
    "    clf = clf_list[mtype]\n",
    "    # Loop through splits and store scores of trained classifier. Plot confusion matrix for each as well\n",
    "    scores = []\n",
    "    for i, (train_index, test_index) in enumerate(splitter.split(these_data, these_labels)):\n",
    "        X, y = these_data[train_index], these_labels[train_index]\n",
    "\n",
    "        # Build preprocessor\n",
    "        preproc = buildPreproc(X, binarized = do_binary)\n",
    "        \n",
    "        # Scaling\n",
    "        clf = clf.fit(preproc(X), y)\n",
    "\n",
    "        # Test data\n",
    "        X_t, y_t = these_data[test_index], these_labels[test_index]\n",
    "\n",
    "        # Scaling\n",
    "        scores.append(clf.score(preproc(X_t), y_t))\n",
    "\n",
    "        # Confusion matrix generation\n",
    "        confmat = metrics.confusion_matrix(y_t, clf.predict(preproc(X_t)), labels=clf.classes_)\n",
    "        disp = metrics.ConfusionMatrixDisplay(confusion_matrix=confmat, display_labels=clf.classes_)\n",
    "        disp.plot()\n",
    "\n",
    "    # Integrate the scores together\n",
    "    scores_all[mtype] = {'avg': np.mean(scores).round(3), 'cv_std': np.std(np.array(scores)).round(3)}\n",
    "    \n",
    "pprint.pprint(scores_all)\n",
    "# print(metrics.accuracy_score(y_t, np.ones_like(y_t) * np.mean(y)))\n",
    "\n",
    "# embed = manifold.TSNE().fit_transform(cls_tokens)\n",
    "del these_data, these_labels"
   ]
  },
  {
   "cell_type": "code",
   "execution_count": 154,
   "id": "7b171257",
   "metadata": {},
   "outputs": [
    {
     "name": "stdout",
     "output_type": "stream",
     "text": [
      "23.36232316656167 11.695247021764184\n"
     ]
    }
   ],
   "source": [
    "print(np.log(14e9), np.log(120e3))"
   ]
  },
  {
   "cell_type": "code",
   "execution_count": 157,
   "id": "2e638055",
   "metadata": {},
   "outputs": [
    {
     "data": {
      "text/plain": [
       "65536"
      ]
     },
     "execution_count": 157,
     "metadata": {},
     "output_type": "execute_result"
    }
   ],
   "source": [
    "2**16"
   ]
  },
  {
   "cell_type": "code",
   "execution_count": 159,
   "id": "a203ebb0",
   "metadata": {},
   "outputs": [
    {
     "data": {
      "text/plain": [
       "8192"
      ]
     },
     "execution_count": 159,
     "metadata": {},
     "output_type": "execute_result"
    }
   ],
   "source": [
    "2**13"
   ]
  },
  {
   "cell_type": "code",
   "execution_count": null,
   "id": "08b7cfa5",
   "metadata": {},
   "outputs": [],
   "source": []
  }
 ],
 "metadata": {
  "kernelspec": {
   "display_name": "Python 3",
   "language": "python",
   "name": "python3"
  },
  "language_info": {
   "codemirror_mode": {
    "name": "ipython",
    "version": 3
   },
   "file_extension": ".py",
   "mimetype": "text/x-python",
   "name": "python",
   "nbconvert_exporter": "python",
   "pygments_lexer": "ipython3",
   "version": "3.7.12"
  }
 },
 "nbformat": 4,
 "nbformat_minor": 5
}
